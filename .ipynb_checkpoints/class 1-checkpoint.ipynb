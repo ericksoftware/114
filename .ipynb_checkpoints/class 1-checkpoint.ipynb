{
 "cells": [
  {
   "cell_type": "code",
   "execution_count": 8,
   "id": "00b95ff9-eba9-4491-9d03-805b17878602",
   "metadata": {},
   "outputs": [
    {
     "name": "stdout",
     "output_type": "stream",
     "text": [
      "H\n",
      "e\n",
      "l\n",
      "l\n",
      "o\n",
      " \n",
      "w\n",
      "o\n",
      "r\n",
      "l\n",
      "d\n"
     ]
    }
   ],
   "source": [
    "for char in \"Hello world\":\n",
    "    print(char)\n",
    "\n",
    "# Press SHIFT+ENTER"
   ]
  },
  {
   "cell_type": "markdown",
   "id": "d02200e9-a850-44ec-af4b-3faf12076958",
   "metadata": {},
   "source": [
    "# Problem 1\n",
    "\n",
    "Given a pair of strings, determine if these strings are anagrams of each other, Return True if they are, False otherwise.\n",
    "\n",
    "## Criteria\n",
    "Two strings are said to be anagrams of each other of all the criteria below are met:\n",
    "1. They must use the same letters, the same amount of times.\n",
    "2. They must be of equal length.\n",
    "\n",
    "## Examples\n",
    "```\n",
    "earth and heart\n",
    "cars and scar\n",
    "rats and star\n",
    "etc\n",
    "```"
   ]
  },
  {
   "cell_type": "code",
   "execution_count": 13,
   "id": "08c990c1-5d4a-4012-9a81-c45ccfaa4076",
   "metadata": {},
   "outputs": [],
   "source": [
    "# Define my function \"anagram_check\" with parameters: s1 and s2 (of type string):\n",
    "# s1 = s1 without spaces and in lower case\n",
    "# s2 = s2 without spaces and in lower case\n",
    "# if the length of s1 is not equal to the length of s2:\n",
    "#     return False\n",
    "# otherwise\n",
    "#     d1 = new dictionary\n",
    "#     d2 = new dictionary\n",
    "#     for each number in the range from 0 to the length of s1:\n",
    "#         if the character at position \"number\" in s1 is in d1:\n",
    "#             add 1 to the number of times i've seen that character in d1\n",
    "#         otherwise:\n",
    "#             create a new entry for that character in d1 and set value to 1\n",
    "#         if the character at position \"number\" in s2 is in d2:\n",
    "#             add 1 to the number of times i've seen that character in d2\n",
    "#         otherwise:\n",
    "#             create a new entry for that character in d1 and set value to 1\n",
    "#     if d1 is equal to d2:\n",
    "#         return True\n",
    "#     otherwise:\n",
    "#         return False 26"
   ]
  },
  {
   "cell_type": "code",
   "execution_count": 30,
   "id": "a370a3cc-1b1a-4f73-9e4d-7391b5238a83",
   "metadata": {},
   "outputs": [],
   "source": [
    "def anagram_check(s1, s2):\n",
    "    s1 = s1.replace(\" \", \"\").lower()\n",
    "    s2 = s2.replace(\" \", \"\").lower()\n",
    "\n",
    "    if len (s1) != len (s2):\n",
    "        return False\n",
    "    d1 = {}\n",
    "    d2 = {}\n",
    "\n",
    "    for char in s1:\n",
    "        if char in d1:\n",
    "            d1[char] += 1\n",
    "        d1[char] = 1\n",
    "\n",
    "    for char in s2:\n",
    "        if char in d2:\n",
    "            d2[char] += 1\n",
    "        d2[char] = 1\n",
    "\n",
    "    if d1 == d2:\n",
    "        return True\n",
    "    return False"
   ]
  },
  {
   "cell_type": "code",
   "execution_count": 31,
   "id": "33fc0697-d55f-4a27-a426-e199bc57bd03",
   "metadata": {},
   "outputs": [
    {
     "data": {
      "text/plain": [
       "True"
      ]
     },
     "execution_count": 31,
     "metadata": {},
     "output_type": "execute_result"
    }
   ],
   "source": [
    "anagram_check(\"earth\", \"heart\")"
   ]
  },
  {
   "cell_type": "code",
   "execution_count": 32,
   "id": "c4ace69a-c017-4c14-bfc4-94dd4c93ebde",
   "metadata": {},
   "outputs": [
    {
     "data": {
      "text/plain": [
       "True"
      ]
     },
     "execution_count": 32,
     "metadata": {},
     "output_type": "execute_result"
    }
   ],
   "source": [
    "anagram_check(\"cars\", \"scar\")"
   ]
  },
  {
   "cell_type": "code",
   "execution_count": 33,
   "id": "813f2717-3644-4435-acd8-23f876c3abf3",
   "metadata": {},
   "outputs": [
    {
     "data": {
      "text/plain": [
       "True"
      ]
     },
     "execution_count": 33,
     "metadata": {},
     "output_type": "execute_result"
    }
   ],
   "source": [
    "anagram_check(\"rats\", \"star\")"
   ]
  },
  {
   "cell_type": "code",
   "execution_count": 34,
   "id": "61c874a7-067e-4d81-84ef-a61072063eb5",
   "metadata": {},
   "outputs": [
    {
     "data": {
      "text/plain": [
       "True"
      ]
     },
     "execution_count": 34,
     "metadata": {},
     "output_type": "execute_result"
    }
   ],
   "source": [
    "anagram_check(\"i am Lord Voldemort\", \"Tom Marvolo Riddle\")"
   ]
  },
  {
   "cell_type": "code",
   "execution_count": 35,
   "id": "184a5160-4035-4582-955f-b58a76025988",
   "metadata": {},
   "outputs": [
    {
     "data": {
      "text/plain": [
       "False"
      ]
     },
     "execution_count": 35,
     "metadata": {},
     "output_type": "execute_result"
    }
   ],
   "source": [
    "anagram_check(\"i am Lord Voldemort\", \"Tom Marvolo sadasdasdRiddle\")"
   ]
  },
  {
   "cell_type": "code",
   "execution_count": null,
   "id": "d8e7f638-0ce7-4ed7-9629-934990ae9795",
   "metadata": {},
   "outputs": [],
   "source": []
  }
 ],
 "metadata": {
  "kernelspec": {
   "display_name": "Python 3 (ipykernel)",
   "language": "python",
   "name": "python3"
  },
  "language_info": {
   "codemirror_mode": {
    "name": "ipython",
    "version": 3
   },
   "file_extension": ".py",
   "mimetype": "text/x-python",
   "name": "python",
   "nbconvert_exporter": "python",
   "pygments_lexer": "ipython3",
   "version": "3.12.3"
  }
 },
 "nbformat": 4,
 "nbformat_minor": 5
}
